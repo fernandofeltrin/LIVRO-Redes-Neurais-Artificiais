{
  "nbformat": 4,
  "nbformat_minor": 0,
  "metadata": {
    "colab": {
      "name": "CNN Torax 10c Multiclasse Multinomial.ipynb",
      "provenance": [],
      "authorship_tag": "ABX9TyPW6pdo2/90IoTqNPbUMBlA",
      "include_colab_link": true
    },
    "kernelspec": {
      "name": "python3",
      "display_name": "Python 3"
    },
    "language_info": {
      "name": "python"
    }
  },
  "cells": [
    {
      "cell_type": "markdown",
      "metadata": {
        "id": "view-in-github",
        "colab_type": "text"
      },
      "source": [
        "<a href=\"https://colab.research.google.com/github/fernandofeltrin/LIVRO-Redes-Neurais-Artificiais/blob/master/CNN_Torax_10c_Multiclasse_Multinomial.ipynb\" target=\"_parent\"><img src=\"https://colab.research.google.com/assets/colab-badge.svg\" alt=\"Open In Colab\"/></a>"
      ]
    },
    {
      "cell_type": "code",
      "execution_count": null,
      "metadata": {
        "id": "q_UM1QhygCNe"
      },
      "outputs": [],
      "source": [
        "import numpy as np\n",
        "import matplotlib.pyplot as plt\n",
        "from tensorflow import keras\n",
        "from keras.models import Sequential\n",
        "from keras.layers import Conv2D, MaxPooling2D, Flatten, Dense, Dropout, BatchNormalization\n",
        "from keras.preprocessing.image import ImageDataGenerator, load_img\n",
        "from keras.preprocessing import image\n",
        "from keras.callbacks import LearningRateScheduler\n",
        "from keras.callbacks import ReduceLROnPlateau\n",
        "from keras import backend as B\n",
        "from keras.utils.vis_utils import plot_model\n",
        "from keras_sequential_ascii import keras2ascii\n",
        "from keras.layers import Conv2D, Conv2DTranspose\n"
      ]
    },
    {
      "cell_type": "code",
      "source": [
        "gerador_treino = ImageDataGenerator(rescale = 1.0/255,\n",
        "                                    rotation_range = 5,\n",
        "                                    horizontal_flip = True,\n",
        "                                    shear_range = 0.2,\n",
        "                                    height_shift_range = 0.07,\n",
        "                                    zoom_range = 0.2)\n",
        "\n",
        "gerador_teste = ImageDataGenerator(rescale = 1.0/255)\n"
      ],
      "metadata": {
        "id": "1UlW4iVqgK5d"
      },
      "execution_count": null,
      "outputs": []
    },
    {
      "cell_type": "code",
      "source": [
        "base_treino = gerador_treino.flow_from_directory('/CNN_TORAX_12C/dataset/train',\n",
        "                                                 target_size = (128,128),\n",
        "                                                 batch_size = 16,\n",
        "                                                 class_mode = 'categorical')\n",
        "base_teste = gerador_teste.flow_from_directory('/CNN_TORAX_12C/dataset/test',\n",
        "                                               target_size = (128,128),\n",
        "                                               batch_size = 16,\n",
        "                                               class_mode = 'categorical')"
      ],
      "metadata": {
        "id": "o6FY-TVMgK8D"
      },
      "execution_count": null,
      "outputs": []
    },
    {
      "cell_type": "code",
      "source": [
        "classificadorx2 = Sequential()\n",
        "classificadorx2.add(Conv2D(32,\n",
        "                         kernel_size = (3,3),\n",
        "                         padding = 'same',\n",
        "                         input_shape = (128,128,3),\n",
        "                         activation = 'relu'))\n",
        "classificadorx2.add(BatchNormalization())\n",
        "classificadorx2.add(MaxPooling2D(pool_size = (2,2)))\n",
        "classificadorx2.add(Conv2D(32,\n",
        "                         (3,3),\n",
        "                         activation = 'relu'))\n",
        "classificadorx2.add(BatchNormalization())\n",
        "classificadorx2.add(MaxPooling2D(pool_size = (2,2)))\n",
        "classificadorx2.add(Conv2D(32,\n",
        "                         (3,3),\n",
        "                         activation = 'relu'))\n",
        "classificadorx2.add(Conv2DTranspose(32,\n",
        "                                   kernel_size = (3,3),\n",
        "                                   strides = (1, 1),\n",
        "                                   padding = 'valid',\n",
        "                                   output_padding = None,\n",
        "                                   data_format = None,\n",
        "                                   dilation_rate = (1, 1),\n",
        "                                   activation = None,\n",
        "                                   use_bias = True,\n",
        "                                   kernel_initializer = 'glorot_uniform'))\n",
        "classificadorx2.add(Flatten())\n",
        "classificadorx2.add(Dense(units = 128,\n",
        "                         activation = 'relu',\n",
        "                         use_bias=True,\n",
        "                         kernel_initializer='glorot_uniform',\n",
        "                         bias_initializer='zeros'))\n",
        "classificadorx2.add(Dropout(0.2))\n",
        "classificadorx2.add(Dense(units = 128,\n",
        "                         activation = 'relu',\n",
        "                         use_bias=True,\n",
        "                         kernel_initializer='glorot_uniform',\n",
        "                         bias_initializer='zeros'))\n",
        "classificadorx2.add(Dropout(0.2))\n",
        "classificadorx2.add(Dense(units = 128,\n",
        "                        activation = 'relu'))\n",
        "classificadorx2.add(Dropout(0.2))\n",
        "classificadorx2.add(Dense(units = 11,\n",
        "                        activation = 'sigmoid'))\n"
      ],
      "metadata": {
        "id": "R22KwPyEgK-J"
      },
      "execution_count": null,
      "outputs": []
    },
    {
      "cell_type": "code",
      "source": [
        "classificadorx2.compile(optimizer = 'Adam',\n",
        "                      loss = 'categorical_crossentropy',\n",
        "                      metrics = ['accuracy'])\n"
      ],
      "metadata": {
        "id": "CpyWsyzbgLAT"
      },
      "execution_count": null,
      "outputs": []
    },
    {
      "cell_type": "code",
      "source": [
        "learning_rate = ReduceLROnPlateau(monitor='accuracy', \n",
        "                                            patience=3, \n",
        "                                            verbose=1, \n",
        "                                            factor=0.5, \n",
        "                                            min_lr=0.00001)\n"
      ],
      "metadata": {
        "id": "sfZLP79CgLCm"
      },
      "execution_count": null,
      "outputs": []
    },
    {
      "cell_type": "code",
      "source": [
        "h_x2 = classificadorx2.fit(base_treino,\n",
        "                        steps_per_epoch = 1000,\n",
        "                        epochs = 1000,\n",
        "                        validation_data = base_teste,\n",
        "                        callbacks = [learning_rate],\n",
        "                        verbose = 1,\n",
        "                        validation_steps = 100)\n"
      ],
      "metadata": {
        "id": "Jcr6slPMgdt5"
      },
      "execution_count": null,
      "outputs": []
    },
    {
      "cell_type": "code",
      "source": [
        "classificadorx2.save_weights('/content/drive/MyDrive/Colab Notebooks/CNN_TORAX.h5')\n",
        "classificadorx2.save('/content/drive/MyDrive/Colab Notebooks/CNN_TORAX.h5')\n"
      ],
      "metadata": {
        "id": "ZkKHV-trgdwR"
      },
      "execution_count": null,
      "outputs": []
    },
    {
      "cell_type": "code",
      "source": [
        ""
      ],
      "metadata": {
        "id": "8SZkPMBlgdyn"
      },
      "execution_count": null,
      "outputs": []
    },
    {
      "cell_type": "code",
      "source": [
        "model = Sequential()\n",
        "model = load_model('/content/drive/MyDrive/Colab Notebooks/CNN_TORAX.h5')\n",
        "\n",
        "img_teste = load_img('', target_size = (128, 128))\n",
        "\n",
        "img_plot = PIL.Image.open('')\n",
        "\n",
        "plt.figure(figsize=(8,8))\n",
        "plt.imshow(img_plot)\n",
        "plt.show()\n",
        "\n",
        "img_teste = image.img_to_array(img_teste)\n",
        "img_teste /= 255\n",
        "img_teste = np.expand_dims(img_teste, axis = 0)\n",
        "\n",
        "resultado_teste = model.predict(img_teste)\n",
        "resultado_final = resultado_teste\n"
      ],
      "metadata": {
        "id": "iUv3_Mmygd0_"
      },
      "execution_count": null,
      "outputs": []
    }
  ]
}